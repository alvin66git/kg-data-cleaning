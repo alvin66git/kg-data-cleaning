{
 "cells": [
  {
   "cell_type": "code",
   "execution_count": 3,
   "id": "f20ad9e7",
   "metadata": {},
   "outputs": [
    {
     "name": "stdout",
     "output_type": "stream",
     "text": [
      "/Users/alvinliu_mbp/Downloads/Alvin/Projects/kg-data-cleaning/python-data-cleaning/notebooks\n"
     ]
    }
   ],
   "source": [
    "import os\n",
    "print(os.getcwd())"
   ]
  },
  {
   "cell_type": "code",
   "execution_count": 4,
   "id": "d5a3c39f",
   "metadata": {},
   "outputs": [
    {
     "name": "stdout",
     "output_type": "stream",
     "text": [
      "['ASD_9-1_test.csv']\n"
     ]
    }
   ],
   "source": [
    "import os\n",
    "print(os.listdir('../data/raw'))"
   ]
  },
  {
   "cell_type": "code",
   "execution_count": 5,
   "id": "6cbc6371",
   "metadata": {},
   "outputs": [
    {
     "data": {
      "text/html": [
       "<div>\n",
       "<style scoped>\n",
       "    .dataframe tbody tr th:only-of-type {\n",
       "        vertical-align: middle;\n",
       "    }\n",
       "\n",
       "    .dataframe tbody tr th {\n",
       "        vertical-align: top;\n",
       "    }\n",
       "\n",
       "    .dataframe thead th {\n",
       "        text-align: right;\n",
       "    }\n",
       "</style>\n",
       "<table border=\"1\" class=\"dataframe\">\n",
       "  <thead>\n",
       "    <tr style=\"text-align: right;\">\n",
       "      <th></th>\n",
       "      <th>tmdbid</th>\n",
       "      <th>Company</th>\n",
       "      <th>Production_Series</th>\n",
       "      <th>Production_No</th>\n",
       "      <th>收件日期</th>\n",
       "      <th>損壞材料品牌</th>\n",
       "      <th>損壞材料型號</th>\n",
       "      <th>損壞材料料號</th>\n",
       "      <th>對策狀態</th>\n",
       "      <th>對策狀態描述</th>\n",
       "      <th>Issue_Level_1_客訴故障現象</th>\n",
       "      <th>Issue_Level_2_分析看到現象</th>\n",
       "      <th>Issue_Level_3_廠內測試項目_Series</th>\n",
       "      <th>Issue_Level_4_故障板類_Series</th>\n",
       "      <th>Issue_Level_5_Function_Block_Series</th>\n",
       "      <th>Issue_Level_6_故障零件位置</th>\n",
       "      <th>Issue_Level_7_損壞原因</th>\n",
       "      <th>Issue_Level_8_損壞原因二</th>\n",
       "      <th>Issue_Level_9_責任歸屬</th>\n",
       "    </tr>\n",
       "  </thead>\n",
       "  <tbody>\n",
       "    <tr>\n",
       "      <th>0</th>\n",
       "      <td>3</td>\n",
       "      <td>M公司</td>\n",
       "      <td>系列A</td>\n",
       "      <td>系列A-0421-L</td>\n",
       "      <td>1/22/24</td>\n",
       "      <td>Txx</td>\n",
       "      <td>Txx62569DBVR</td>\n",
       "      <td>料號2510768214</td>\n",
       "      <td>A已導入</td>\n",
       "      <td>\"1.ECN更換Txx62565（2510726214）---1/13 ECN 126A-2...</td>\n",
       "      <td>無</td>\n",
       "      <td>帶馬達運轉正常</td>\n",
       "      <td>T1</td>\n",
       "      <td>Can Not Duplicate</td>\n",
       "      <td>Can Not Duplicate</td>\n",
       "      <td>無</td>\n",
       "      <td>帶馬達運轉正常</td>\n",
       "      <td>無法重現不良</td>\n",
       "      <td>CND</td>\n",
       "    </tr>\n",
       "    <tr>\n",
       "      <th>1</th>\n",
       "      <td>6</td>\n",
       "      <td>T公司</td>\n",
       "      <td>系列A</td>\n",
       "      <td>系列A-0421-M</td>\n",
       "      <td>1/22/24</td>\n",
       "      <td>Txx</td>\n",
       "      <td>Txx62569DBVR</td>\n",
       "      <td>料號2510768214</td>\n",
       "      <td>A已導入</td>\n",
       "      <td>\"1.ECN更換Txx62565（2510726214）---1/13 ECN 126A-2...</td>\n",
       "      <td>上電無顯示</td>\n",
       "      <td>帶馬達運轉正常</td>\n",
       "      <td>T1</td>\n",
       "      <td>Power Board</td>\n",
       "      <td>INVERTER</td>\n",
       "      <td>IGBT,DR58,DR57</td>\n",
       "      <td>IGBT損壞</td>\n",
       "      <td>原因不明</td>\n",
       "      <td>功率模組</td>\n",
       "    </tr>\n",
       "    <tr>\n",
       "      <th>2</th>\n",
       "      <td>9</td>\n",
       "      <td>B公司</td>\n",
       "      <td>系列A</td>\n",
       "      <td>系列A-1021-F</td>\n",
       "      <td>1/22/24</td>\n",
       "      <td>Txx</td>\n",
       "      <td>Txx62569DBVR</td>\n",
       "      <td>料號2510768214</td>\n",
       "      <td>A已導入</td>\n",
       "      <td>\"1.ECN更換Txx62565（2510726214）---1/13 ECN 126A-2...</td>\n",
       "      <td>驱动器自带了CN10，报警AL500</td>\n",
       "      <td>裝STO端子后帶馬達運轉正常</td>\n",
       "      <td>T1</td>\n",
       "      <td>Power Board</td>\n",
       "      <td>Internal Connector (J1, DJ2, EJ3…)</td>\n",
       "      <td>DJ1</td>\n",
       "      <td>PIN30 外漏</td>\n",
       "      <td>製程-組立</td>\n",
       "      <td>製程問題</td>\n",
       "    </tr>\n",
       "    <tr>\n",
       "      <th>3</th>\n",
       "      <td>12</td>\n",
       "      <td>C公司</td>\n",
       "      <td>系列A</td>\n",
       "      <td>系列A-0421-L</td>\n",
       "      <td>1/22/24</td>\n",
       "      <td>Txx</td>\n",
       "      <td>Txx320F28374DPTPT</td>\n",
       "      <td>料號2611309608</td>\n",
       "      <td>A已導入</td>\n",
       "      <td>1.優化測具探針Over travel行程參數，由原來的110μm變更為90μm (2020...</td>\n",
       "      <td>电压正常时一直报电压过低</td>\n",
       "      <td>V-BUS電壓異常為12V</td>\n",
       "      <td>T1</td>\n",
       "      <td>Can Not Duplicate</td>\n",
       "      <td>Can Not Duplicate</td>\n",
       "      <td>無</td>\n",
       "      <td>帶馬達運轉正常</td>\n",
       "      <td>無法重現不良</td>\n",
       "      <td>CND</td>\n",
       "    </tr>\n",
       "    <tr>\n",
       "      <th>4</th>\n",
       "      <td>15</td>\n",
       "      <td>M公司</td>\n",
       "      <td>系列A</td>\n",
       "      <td>系列A-0421-L</td>\n",
       "      <td>1/22/24</td>\n",
       "      <td>无失效现象</td>\n",
       "      <td>无失效现象</td>\n",
       "      <td>料號无失效现象</td>\n",
       "      <td>A已導入</td>\n",
       "      <td>\"1.ECN更換Txx62565（2510726214）---1/13 ECN 126A-2...</td>\n",
       "      <td>按键失灵</td>\n",
       "      <td>USB无法通讯</td>\n",
       "      <td>T1</td>\n",
       "      <td>Can Not Duplicate</td>\n",
       "      <td>Can Not Duplicate</td>\n",
       "      <td>無</td>\n",
       "      <td>帶馬達運轉正常</td>\n",
       "      <td>無法重現不良</td>\n",
       "      <td>CND</td>\n",
       "    </tr>\n",
       "  </tbody>\n",
       "</table>\n",
       "</div>"
      ],
      "text/plain": [
       "   tmdbid Company Production_Series Production_No     收件日期 損壞材料品牌  \\\n",
       "0       3     M公司               系列A    系列A-0421-L  1/22/24    Txx   \n",
       "1       6     T公司               系列A    系列A-0421-M  1/22/24    Txx   \n",
       "2       9     B公司               系列A    系列A-1021-F  1/22/24    Txx   \n",
       "3      12     C公司               系列A    系列A-0421-L  1/22/24    Txx   \n",
       "4      15     M公司               系列A    系列A-0421-L  1/22/24  无失效现象   \n",
       "\n",
       "              損壞材料型號        損壞材料料號  對策狀態  \\\n",
       "0       Txx62569DBVR  料號2510768214  A已導入   \n",
       "1       Txx62569DBVR  料號2510768214  A已導入   \n",
       "2       Txx62569DBVR  料號2510768214  A已導入   \n",
       "3  Txx320F28374DPTPT  料號2611309608  A已導入   \n",
       "4              无失效现象       料號无失效现象  A已導入   \n",
       "\n",
       "                                              對策狀態描述 Issue_Level_1_客訴故障現象  \\\n",
       "0  \"1.ECN更換Txx62565（2510726214）---1/13 ECN 126A-2...                    無   \n",
       "1  \"1.ECN更換Txx62565（2510726214）---1/13 ECN 126A-2...                上電無顯示   \n",
       "2  \"1.ECN更換Txx62565（2510726214）---1/13 ECN 126A-2...   驱动器自带了CN10，报警AL500   \n",
       "3  1.優化測具探針Over travel行程參數，由原來的110μm變更為90μm (2020...         电压正常时一直报电压过低   \n",
       "4  \"1.ECN更換Txx62565（2510726214）---1/13 ECN 126A-2...                 按键失灵   \n",
       "\n",
       "  Issue_Level_2_分析看到現象 Issue_Level_3_廠內測試項目_Series Issue_Level_4_故障板類_Series  \\\n",
       "0              帶馬達運轉正常                          T1         Can Not Duplicate   \n",
       "1              帶馬達運轉正常                          T1               Power Board   \n",
       "2       裝STO端子后帶馬達運轉正常                          T1               Power Board   \n",
       "3        V-BUS電壓異常為12V                          T1         Can Not Duplicate   \n",
       "4              USB无法通讯                          T1         Can Not Duplicate   \n",
       "\n",
       "  Issue_Level_5_Function_Block_Series Issue_Level_6_故障零件位置 Issue_Level_7_損壞原因  \\\n",
       "0                   Can Not Duplicate                    無            帶馬達運轉正常   \n",
       "1                            INVERTER       IGBT,DR58,DR57             IGBT損壞   \n",
       "2  Internal Connector (J1, DJ2, EJ3…)                  DJ1           PIN30 外漏   \n",
       "3                   Can Not Duplicate                    無            帶馬達運轉正常   \n",
       "4                   Can Not Duplicate                    無            帶馬達運轉正常   \n",
       "\n",
       "  Issue_Level_8_損壞原因二 Issue_Level_9_責任歸屬  \n",
       "0              無法重現不良                CND  \n",
       "1                原因不明               功率模組  \n",
       "2               製程-組立               製程問題  \n",
       "3              無法重現不良                CND  \n",
       "4              無法重現不良                CND  "
      ]
     },
     "execution_count": 5,
     "metadata": {},
     "output_type": "execute_result"
    }
   ],
   "source": [
    "import pandas as pd\n",
    "\n",
    "# 注意：前面加上 ../ 回到專案根目錄\n",
    "df = pd.read_csv('../data/raw/ASD_9-1_test.csv')\n",
    "df.head()"
   ]
  },
  {
   "cell_type": "code",
   "execution_count": 6,
   "id": "ab21ba21",
   "metadata": {},
   "outputs": [
    {
     "name": "stdout",
     "output_type": "stream",
     "text": [
      "0    1/22/24\n",
      "1    1/22/24\n",
      "2    1/22/24\n",
      "3    1/22/24\n",
      "4    1/22/24\n",
      "5    1/10/24\n",
      "6    1/19/24\n",
      "7    1/22/24\n",
      "8    1/18/24\n",
      "9    1/15/24\n",
      "Name: 收件日期, dtype: object\n",
      "共有 224 種不同的日期字串：\n",
      "6/13/24\n",
      "4/10/24\n",
      "1/18/25\n",
      "1/9/24\n",
      "4/17/24\n",
      "9/11/24\n",
      "8/14/24\n",
      "12/26/24\n",
      "7/12/24\n",
      "7/19/24\n",
      "1/2/24\n",
      "1/14/25\n",
      "3/6/24\n",
      "4/3/24\n",
      "1/29/24\n",
      "3/1/24\n",
      "7/15/24\n",
      "8/29/24\n",
      "12/17/24\n",
      "4/2/24\n"
     ]
    }
   ],
   "source": [
    "# 假設日期欄位名稱為 'date'，請依實際欄位名稱替換\n",
    "date_col = '收件日期'  # ←請改成你的日期欄位名稱\n",
    "\n",
    "# 觀察前幾筆資料\n",
    "print(df[date_col].head(10))\n",
    "\n",
    "# 列出所有不同的日期格式（用 set 去重複）\n",
    "unique_formats = set()\n",
    "for val in df[date_col].dropna():\n",
    "    unique_formats.add(val)\n",
    "print(f\"共有 {len(unique_formats)} 種不同的日期字串：\")\n",
    "for v in list(unique_formats)[:20]:  # 只印前20種，避免太多\n",
    "    print(v)"
   ]
  },
  {
   "cell_type": "code",
   "execution_count": 7,
   "id": "2ddd4ccd",
   "metadata": {},
   "outputs": [
    {
     "data": {
      "text/plain": [
       "0   2024-01-22\n",
       "1   2024-01-22\n",
       "2   2024-01-22\n",
       "3   2024-01-22\n",
       "4   2024-01-22\n",
       "Name: 收件日期, dtype: datetime64[ns]"
      ]
     },
     "execution_count": 7,
     "metadata": {},
     "output_type": "execute_result"
    }
   ],
   "source": [
    "# 假設日期欄位名稱為 'date'，請依實際欄位名稱替換\n",
    "date_col = '收件日期'  # ←請改成你的日期欄位名稱\n",
    "\n",
    "# 轉換為 datetime 格式\n",
    "df[date_col] = pd.to_datetime(df[date_col], format='%m/%d/%y')\n",
    "\n",
    "# 檢查結果\n",
    "df[date_col].head()"
   ]
  },
  {
   "cell_type": "code",
   "execution_count": 8,
   "id": "519653da",
   "metadata": {},
   "outputs": [
    {
     "data": {
      "text/html": [
       "<div>\n",
       "<style scoped>\n",
       "    .dataframe tbody tr th:only-of-type {\n",
       "        vertical-align: middle;\n",
       "    }\n",
       "\n",
       "    .dataframe tbody tr th {\n",
       "        vertical-align: top;\n",
       "    }\n",
       "\n",
       "    .dataframe thead th {\n",
       "        text-align: right;\n",
       "    }\n",
       "</style>\n",
       "<table border=\"1\" class=\"dataframe\">\n",
       "  <thead>\n",
       "    <tr style=\"text-align: right;\">\n",
       "      <th></th>\n",
       "      <th>Issue_Level_6_故障零件位置</th>\n",
       "      <th>Issue_Level_6_故障零件位置_正規化</th>\n",
       "    </tr>\n",
       "  </thead>\n",
       "  <tbody>\n",
       "    <tr>\n",
       "      <th>0</th>\n",
       "      <td>無</td>\n",
       "      <td>無</td>\n",
       "    </tr>\n",
       "    <tr>\n",
       "      <th>1</th>\n",
       "      <td>IGBT,DR58,DR57</td>\n",
       "      <td>DR57,DR58,IGBT</td>\n",
       "    </tr>\n",
       "    <tr>\n",
       "      <th>2</th>\n",
       "      <td>DJ1</td>\n",
       "      <td>DJ1</td>\n",
       "    </tr>\n",
       "    <tr>\n",
       "      <th>3</th>\n",
       "      <td>無</td>\n",
       "      <td>無</td>\n",
       "    </tr>\n",
       "    <tr>\n",
       "      <th>4</th>\n",
       "      <td>無</td>\n",
       "      <td>無</td>\n",
       "    </tr>\n",
       "    <tr>\n",
       "      <th>5</th>\n",
       "      <td>無</td>\n",
       "      <td>無</td>\n",
       "    </tr>\n",
       "    <tr>\n",
       "      <th>6</th>\n",
       "      <td>DR58,DPM1</td>\n",
       "      <td>DPM1,DR58</td>\n",
       "    </tr>\n",
       "    <tr>\n",
       "      <th>7</th>\n",
       "      <td>DPM1</td>\n",
       "      <td>DPM1</td>\n",
       "    </tr>\n",
       "    <tr>\n",
       "      <th>8</th>\n",
       "      <td>DD22，IGBT，PCB板</td>\n",
       "      <td>DD22，IGBT，PCB板</td>\n",
       "    </tr>\n",
       "    <tr>\n",
       "      <th>9</th>\n",
       "      <td>DPM1</td>\n",
       "      <td>DPM1</td>\n",
       "    </tr>\n",
       "  </tbody>\n",
       "</table>\n",
       "</div>"
      ],
      "text/plain": [
       "  Issue_Level_6_故障零件位置 Issue_Level_6_故障零件位置_正規化\n",
       "0                    無                        無\n",
       "1       IGBT,DR58,DR57           DR57,DR58,IGBT\n",
       "2                  DJ1                      DJ1\n",
       "3                    無                        無\n",
       "4                    無                        無\n",
       "5                    無                        無\n",
       "6            DR58,DPM1                DPM1,DR58\n",
       "7                 DPM1                     DPM1\n",
       "8       DD22，IGBT，PCB板           DD22，IGBT，PCB板\n",
       "9                 DPM1                     DPM1"
      ]
     },
     "execution_count": 8,
     "metadata": {},
     "output_type": "execute_result"
    }
   ],
   "source": [
    "# 假設欄位名稱為 'Issue_Level_6_故障零件位置'\n",
    "col = 'Issue_Level_6_故障零件位置'\n",
    "\n",
    "def normalize_parts(parts_str):\n",
    "    if pd.isna(parts_str):\n",
    "        return parts_str\n",
    "    # 以逗號分隔，去除空白，排序後再合併\n",
    "    parts = [p.strip() for p in parts_str.split(',')]\n",
    "    parts_sorted = sorted(parts)\n",
    "    return ','.join(parts_sorted)\n",
    "\n",
    "df[col + '_正規化'] = df[col].apply(normalize_parts)\n",
    "\n",
    "# 檢查結果\n",
    "df[[col, col + '_正規化']].head(10)\n"
   ]
  },
  {
   "cell_type": "code",
   "execution_count": null,
   "id": "c10aba0e",
   "metadata": {},
   "outputs": [],
   "source": []
  },
  {
   "cell_type": "code",
   "execution_count": 9,
   "id": "b408e954",
   "metadata": {},
   "outputs": [],
   "source": [
    "# 將處理後的資料存到 data/cleaned/ 資料夾\n",
    "df.to_csv('/Users/alvinliu_mbp/Downloads/Alvin/Projects/kg-data-cleaning/python-data-cleaning/data/cleaned/ASD_9-1_test_cleaned.csv', index=False)\n"
   ]
  },
  {
   "cell_type": "code",
   "execution_count": 10,
   "id": "72468582",
   "metadata": {},
   "outputs": [
    {
     "name": "stdout",
     "output_type": "stream",
     "text": [
      "Requirement already satisfied: opencc-python-reimplemented in /Users/alvinliu_mbp/Downloads/Alvin/Projects/kg-data-cleaning/python-data-cleaning/.venv/lib/python3.11/site-packages (0.1.7)\n",
      "Requirement already satisfied: pandas in /Users/alvinliu_mbp/Downloads/Alvin/Projects/kg-data-cleaning/python-data-cleaning/.venv/lib/python3.11/site-packages (2.3.1)\n",
      "Requirement already satisfied: numpy>=1.23.2 in /Users/alvinliu_mbp/Downloads/Alvin/Projects/kg-data-cleaning/python-data-cleaning/.venv/lib/python3.11/site-packages (from pandas) (2.3.1)\n",
      "Requirement already satisfied: python-dateutil>=2.8.2 in /Users/alvinliu_mbp/Downloads/Alvin/Projects/kg-data-cleaning/python-data-cleaning/.venv/lib/python3.11/site-packages (from pandas) (2.9.0.post0)\n",
      "Requirement already satisfied: pytz>=2020.1 in /Users/alvinliu_mbp/Downloads/Alvin/Projects/kg-data-cleaning/python-data-cleaning/.venv/lib/python3.11/site-packages (from pandas) (2025.2)\n",
      "Requirement already satisfied: tzdata>=2022.7 in /Users/alvinliu_mbp/Downloads/Alvin/Projects/kg-data-cleaning/python-data-cleaning/.venv/lib/python3.11/site-packages (from pandas) (2025.2)\n",
      "Requirement already satisfied: six>=1.5 in /Users/alvinliu_mbp/Downloads/Alvin/Projects/kg-data-cleaning/python-data-cleaning/.venv/lib/python3.11/site-packages (from python-dateutil>=2.8.2->pandas) (1.17.0)\n",
      "Requirement already satisfied: opencc-python-reimplemented in /Users/alvinliu_mbp/Downloads/Alvin/Projects/kg-data-cleaning/python-data-cleaning/.venv/lib/python3.11/site-packages (0.1.7)\n"
     ]
    }
   ],
   "source": [
    "!pip install opencc-python-reimplemented pandas\n",
    "!pip install opencc-python-reimplemented\n",
    "from opencc import OpenCC"
   ]
  },
  {
   "cell_type": "code",
   "execution_count": 11,
   "id": "92ecc215",
   "metadata": {},
   "outputs": [
    {
     "name": "stderr",
     "output_type": "stream",
     "text": [
      "/var/folders/w6/s2_dqw991_jdj_vjn8y72n3r0000gq/T/ipykernel_3083/2073879568.py:10: FutureWarning: DataFrame.applymap has been deprecated. Use DataFrame.map instead.\n",
      "  df = df.applymap(convert_to_traditional)\n"
     ]
    }
   ],
   "source": [
    "# 建立簡體轉繁體的轉換器\n",
    "cc = OpenCC('s2t')  # s2t: Simplified Chinese to Traditional Chinese\n",
    "\n",
    "# 將所有欄位的內容進行轉換\n",
    "def convert_to_traditional(text):\n",
    "    if isinstance(text, str):\n",
    "        return cc.convert(text)\n",
    "    return text\n",
    "\n",
    "df = df.applymap(convert_to_traditional)\n",
    "\n",
    "# 儲存為新的 CSV\n",
    "#df.to_csv('output.csv', index=False, encoding='utf-8')\n",
    "# 將處理後的資料存到 data/cleaned/ 資料夾\n",
    "df.to_csv('/Users/alvinliu_mbp/Downloads/Alvin/Projects/kg-data-cleaning/python-data-cleaning/data/cleaned/ASD_9-1_test_cleaned.csv', index=False)\n"
   ]
  },
  {
   "cell_type": "code",
   "execution_count": 12,
   "id": "5f0a3f89",
   "metadata": {},
   "outputs": [
    {
     "name": "stdout",
     "output_type": "stream",
     "text": [
      "與螺絲相關的客訴故障現象統計：\n",
      "Issue_Level_1_客訴故障現象\n",
      "螺絲滑牙                        54\n",
      "螺絲滑絲                         8\n",
      "接地螺絲擰不緊                      5\n",
      "螺絲擰不緊                        4\n",
      "其他(螺絲滑牙)&                    4\n",
      "                            ..\n",
      "r項螺絲滑牙                       1\n",
      "其他(新機，客戶打開包裝後自機器本體內掉出螺絲)     1\n",
      "庫存機拿出測試發現螺絲滑牙                1\n",
      "第二個螺絲滑牙，擰不出                  1\n",
      "R螺絲滑牙，上電報警                   1\n",
      "Name: count, Length: 65, dtype: int64\n"
     ]
    }
   ],
   "source": [
    "# 統計包含「螺絲」的客訴故障現象\n",
    "col = 'Issue_Level_1_客訴故障現象'\n",
    "\n",
    "# 篩選包含「螺絲」的資料\n",
    "screw_related = df[df[col].astype(str).str.contains('螺絲', na=False)]\n",
    "\n",
    "# 統計出現次數\n",
    "screw_counts = screw_related[col].value_counts()\n",
    "\n",
    "print(\"與螺絲相關的客訴故障現象統計：\")\n",
    "print(screw_counts)\n"
   ]
  },
  {
   "cell_type": "code",
   "execution_count": 20,
   "id": "65db9f3c-a4e7-437b-90f8-c15fe5d02191",
   "metadata": {},
   "outputs": [],
   "source": [
    "# 將統計結果轉換為 DataFrame\n",
    "screw_counts_df = screw_counts.reset_index()\n",
    "screw_counts_df.columns = [col, '出現次數']\n",
    "\n",
    "# 輸出到 CSV\n",
    "output_path = '/Users/alvinliu_mbp/Downloads/Alvin/Projects/kg-data-cleaning/python-data-cleaning/data/cleaned/screw_counts.csv'\n",
    "screw_counts_df.to_csv(output_path, index=False, encoding='utf-8-sig')"
   ]
  },
  {
   "cell_type": "code",
   "execution_count": 19,
   "id": "d8abad58-e4a5-47b7-8421-566dfc6b2acb",
   "metadata": {},
   "outputs": [
    {
     "name": "stdout",
     "output_type": "stream",
     "text": [
      "Requirement already satisfied: openpyxl in /Users/alvinliu_mbp/Downloads/Alvin/Projects/kg-data-cleaning/python-data-cleaning/.venv/lib/python3.11/site-packages (3.1.5)\n",
      "Requirement already satisfied: et-xmlfile in /Users/alvinliu_mbp/Downloads/Alvin/Projects/kg-data-cleaning/python-data-cleaning/.venv/lib/python3.11/site-packages (from openpyxl) (2.0.0)\n",
      "已將與螺絲相關的資料輸出到：/Users/alvinliu_mbp/Downloads/Alvin/Projects/kg-data-cleaning/python-data-cleaning/data/cleaned/screw_related_issues.csv\n"
     ]
    }
   ],
   "source": [
    "# ...existing code...\n",
    "!pip install openpyxl\n",
    "# 篩選包含「螺絲」的客訴故障現象\n",
    "col = 'Issue_Level_1_客訴故障現象'\n",
    "screw_related = df[df[col].astype(str).str.contains('螺絲', na=False)]\n",
    "\n",
    "# 輸出到 Excel\n",
    "output_path = '/Users/alvinliu_mbp/Downloads/Alvin/Projects/kg-data-cleaning/python-data-cleaning/data/cleaned/screw_related_issues.csv'\n",
    "screw_related.to_csv(output_path, index=False, encoding='utf-8-sig')\n",
    "\n",
    "print(f\"已將與螺絲相關的資料輸出到：{output_path}\")"
   ]
  },
  {
   "cell_type": "code",
   "execution_count": null,
   "id": "ce270aa8-19e3-4ec6-809b-f73e7af24ea6",
   "metadata": {},
   "outputs": [],
   "source": []
  }
 ],
 "metadata": {
  "kernelspec": {
   "display_name": "Python 3 (ipykernel)",
   "language": "python",
   "name": "python3"
  },
  "language_info": {
   "codemirror_mode": {
    "name": "ipython",
    "version": 3
   },
   "file_extension": ".py",
   "mimetype": "text/x-python",
   "name": "python",
   "nbconvert_exporter": "python",
   "pygments_lexer": "ipython3",
   "version": "3.10.9"
  }
 },
 "nbformat": 4,
 "nbformat_minor": 5
}
